{
 "cells": [
  {
   "cell_type": "markdown",
   "metadata": {},
   "source": [
    "# <small><i>Ulrich Klauck - Studiengang Informatik - Hochschule Aalen</i></small>"
   ]
  },
  {
   "cell_type": "markdown",
   "metadata": {},
   "source": [
    "# Bildpyramiden in OpenCV"
   ]
  },
  {
   "cell_type": "code",
   "execution_count": null,
   "metadata": {},
   "outputs": [],
   "source": [
    "import cv2\n",
    "from uk_utils import imshow\n",
    "import numpy as np\n",
    "import math\n",
    "import sys\n",
    "\n",
    "%matplotlib inline\n",
    "from matplotlib import pyplot as plt"
   ]
  },
  {
   "cell_type": "code",
   "execution_count": null,
   "metadata": {},
   "outputs": [],
   "source": [
    "img_name = '../images/LenaBW.jpg'\n",
    "img = cv2.imread(img_name, cv2.IMREAD_GRAYSCALE)\n",
    "\n",
    "if img is None:\n",
    "    print('Image ', img_name, ' not found')\n",
    "else:\n",
    "    imshow(img)"
   ]
  },
  {
   "cell_type": "markdown",
   "metadata": {},
   "source": [
    "## Die Gauss-Pyramide mit der OpenCV-Funktion"
   ]
  },
  {
   "cell_type": "markdown",
   "metadata": {},
   "source": [
    "Die OpenCV-Funktion pyrDown() berechnet jeweils die nächste Stufe einer Gaußpyramide, d.h. dass Bild wird mit einem Gaußfilter gefiltert und in jeder Richtung um den Faktor 2 verkleinert."
   ]
  },
  {
   "cell_type": "code",
   "execution_count": null,
   "metadata": {},
   "outputs": [],
   "source": [
    "imgTmp = img.copy()\n",
    "gPyr = []              # empty list for pyramid images\n",
    "\n",
    "for i in range(1, int(math.log(max(img.shape), 2))+2):\n",
    "    if imgTmp.shape[0] >= 2 and imgTmp.shape[1] >= 2:\n",
    "        imgTmp = cv2.pyrDown(imgTmp)\n",
    "        gPyr.append(imgTmp)\n",
    "    else: break"
   ]
  },
  {
   "cell_type": "markdown",
   "metadata": {},
   "source": [
    "Zur Darstellung der Pyramide werden die Einzelbilder der Pyramide in einer Bildmatrix zusammengefasst. "
   ]
  },
  {
   "cell_type": "code",
   "execution_count": null,
   "metadata": {},
   "outputs": [],
   "source": [
    "def displayPyramid(pyr, norm=False):\n",
    "    # compute total width of all pyramid images\n",
    "    width = 0\n",
    "    for p in pyr: width += p.shape[1]\n",
    "\n",
    "    # image for collecting all pyramid images\n",
    "    imgPyramid = np.ndarray((pyr[0].shape[0], width), dtype=img.dtype)\n",
    "    imgPyramid[:,:] = 255\n",
    "\n",
    "    # now collect all images\n",
    "    col = 0\n",
    "    for p in pyr:\n",
    "        if norm:\n",
    "            imgPyramid[0:p.shape[0], col:col+p.shape[1]] = \\\n",
    "                cv2.normalize(p.copy(), 0, 255, norm_type=cv2.NORM_MINMAX, dtype=cv2.CV_8U)\n",
    "        else:\n",
    "            imgPyramid[0:p.shape[0], col:col+p.shape[1]] = p.copy()\n",
    "        col += p.shape[1]\n",
    "\n",
    "    plt.figure(figsize=(15,100))\n",
    "    imshow(imgPyramid)\n",
    "    \n",
    "displayPyramid(gPyr)"
   ]
  },
  {
   "cell_type": "markdown",
   "metadata": {},
   "source": [
    "## Die Laplace-Pyramide aus der Gauß-Pyramide"
   ]
  },
  {
   "cell_type": "code",
   "execution_count": null,
   "metadata": {},
   "outputs": [],
   "source": [
    "lpPyr = []\n",
    "\n",
    "for i in range(len(gPyr)-1):\n",
    "    tmp = cv2.pyrUp(gPyr[i+1])\n",
    "    diff = cv2.subtract(gPyr[i], tmp)\n",
    "    lpPyr.append(diff)\n",
    "    \n",
    "displayPyramid(lpPyr, True)"
   ]
  },
  {
   "cell_type": "markdown",
   "metadata": {
    "collapsed": true
   },
   "source": [
    "## Pyramide durch Verkleinern mit beliebigem Faktor"
   ]
  },
  {
   "cell_type": "markdown",
   "metadata": {},
   "source": [
    "Die Gaußpyramide verkleinert von einer Pyramidenstufe zur nächsten standardmäßig um den Faktor 2 in jeder Richtung. Mit einer selbst geschriebenen Funktion ist man flexibler und kann beliebige Verkleinerungsfaktoren realisieren. Die Funktion lässt zusätzlich die Tiefpassfilterung weg. Theoretisch entsteht dadurch Aliasing, was aber hier akzeptiert wird. In manchen Anwendungsfällen - vor allem, wenn Kanten im Bild eine Rolle spielen - ist das u.U. sogar günstiger. "
   ]
  },
  {
   "cell_type": "code",
   "execution_count": null,
   "metadata": {},
   "outputs": [],
   "source": [
    "# function that resizes an image\n",
    "def resize(img, factor=None, inter=cv2.INTER_AREA):\n",
    "    \n",
    "    if factor is None:\n",
    "        return img\n",
    "\n",
    "    (h, w) = img.shape[:2]\n",
    "\n",
    "    dim = (int(w*factor), int(h*factor))\n",
    "    imgResized = cv2.resize(img, dim, interpolation=inter)\n",
    "\n",
    "    return imgResized\n",
    "\n",
    "factor = 0.3          # factor for resizing\n",
    "imgTmp = img.copy()\n",
    "pyr = []              # empty list for pyramid images\n",
    "\n",
    "for i in range(1, int(math.log(max(img.shape), 1.0/factor))+2):\n",
    "    if imgTmp.shape[0] >= 1/factor and imgTmp.shape[1] >= 1/factor:\n",
    "        imgTmp = resize(imgTmp, factor)\n",
    "        pyr.append(imgTmp)\n",
    "    else: break\n",
    "\n",
    "displayPyramid(pyr)"
   ]
  },
  {
   "cell_type": "code",
   "execution_count": null,
   "metadata": {},
   "outputs": [],
   "source": []
  }
 ],
 "metadata": {
  "hide_input": false,
  "kernelspec": {
   "display_name": "Python 3",
   "language": "python",
   "name": "python3"
  },
  "language_info": {
   "codemirror_mode": {
    "name": "ipython",
    "version": 3
   },
   "file_extension": ".py",
   "mimetype": "text/x-python",
   "name": "python",
   "nbconvert_exporter": "python",
   "pygments_lexer": "ipython3",
   "version": "3.8.9"
  }
 },
 "nbformat": 4,
 "nbformat_minor": 1
}
