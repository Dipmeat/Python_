{
 "cells": [
  {
   "cell_type": "markdown",
   "metadata": {},
   "source": [
    "<small><i>Ulrich Klauck - Studiengang Informatik - Hochschule Aalen</i></small>"
   ]
  },
  {
   "cell_type": "markdown",
   "metadata": {},
   "source": [
    "# Bibliotheken und Bilddarstellung"
   ]
  },
  {
   "cell_type": "markdown",
   "metadata": {},
   "source": [
    "Zunächst müssen die entsprechenden Bibliotheken geladen werden:"
   ]
  },
  {
   "cell_type": "code",
   "execution_count": null,
   "metadata": {},
   "outputs": [],
   "source": [
    "import cv2"
   ]
  },
  {
   "cell_type": "markdown",
   "metadata": {},
   "source": [
    "## Einfache Grauwertbilder"
   ]
  },
  {
   "cell_type": "markdown",
   "metadata": {},
   "source": [
    "Das Laden eines Bildes als Grauwertbild erfolgt durch "
   ]
  },
  {
   "cell_type": "code",
   "execution_count": null,
   "metadata": {},
   "outputs": [],
   "source": [
    "img_name = '../../images/Reutte.tif'\n",
    "\n",
    "img = cv2.imread(img_name, cv2.IMREAD_GRAYSCALE)\n",
    "\n",
    "if img is None:\n",
    "    print('Image ', img_name, ' not found')"
   ]
  },
  {
   "cell_type": "markdown",
   "metadata": {},
   "source": [
    "Die Darstellung außerhalb des Notebooks funktioniert mit den Standardmöglichkeiten von OpenCV, ist aber insgesamt nicht besonders praktisch"
   ]
  },
  {
   "cell_type": "code",
   "execution_count": null,
   "metadata": {},
   "outputs": [],
   "source": [
    "cv2.imshow('image', img)\n",
    "_ = cv2.waitKey(10)"
   ]
  },
  {
   "cell_type": "markdown",
   "metadata": {},
   "source": [
    "Es ist günstig, alle OpenCV-Fenster wieder zu schließen, da sie ansonsten nicht auf Nutzerinteraktionen reagieren:"
   ]
  },
  {
   "cell_type": "code",
   "execution_count": null,
   "metadata": {},
   "outputs": [],
   "source": [
    "cv2.destroyAllWindows()\n",
    "_ = cv2.waitKey(10)"
   ]
  },
  {
   "cell_type": "markdown",
   "metadata": {},
   "source": [
    "Alternativ - und für die eigene Dokumentation bessser - kann man die Funktionen der Bibliothek matplotlib zur Darstellung verwenden. Dazu muss (je nach System) die Bibliothek mithilfe einer 'inline' Anweisung zur Erzeugung von inline-Grafiken vorbereitet werden."
   ]
  },
  {
   "cell_type": "code",
   "execution_count": null,
   "metadata": {},
   "outputs": [],
   "source": [
    "from matplotlib import pyplot as plt\n",
    "\n",
    "plt.imshow(img, cmap='gray')\n",
    "_ = plt.xticks([]), plt.yticks([])\n",
    "plt.show()"
   ]
  },
  {
   "cell_type": "code",
   "execution_count": null,
   "metadata": {},
   "outputs": [],
   "source": [
    "plt.imshow(img, cmap='gray')\n",
    "plt.colorbar()\n",
    "plt.show()"
   ]
  },
  {
   "cell_type": "markdown",
   "metadata": {},
   "source": [
    "Um zu vermeiden, dass man dies bei jeder Bilddarstellung selbst erledigen muss, steht in der Bibliothek utils eine Hilfsfunktion imshow() zur Verfügung, die ein Bild darstellt. "
   ]
  },
  {
   "cell_type": "code",
   "execution_count": null,
   "metadata": {},
   "outputs": [],
   "source": [
    "from uk_utils import imshow\n",
    "\n",
    "imshow(img)\n",
    "plt.colorbar()\n",
    "plt.show()"
   ]
  },
  {
   "cell_type": "markdown",
   "metadata": {},
   "source": [
    "Die Bibliothek imgutils steht auf Canvas zur Verfügung und muss installiert werden:\n",
    "\n",
    "$\\texttt{python setup.py install [--user]}$"
   ]
  },
  {
   "cell_type": "markdown",
   "metadata": {},
   "source": [
    "Bilder in pyopencv sind numpy-Arrays. In den Variablen shape, ndim usw. stehen wichitge Informationen zum Bildfornat:"
   ]
  },
  {
   "cell_type": "code",
   "execution_count": null,
   "metadata": {},
   "outputs": [],
   "source": [
    "print('Shape: ', img.shape)\n",
    "print('Das Bild hat %d Dimensionen.' % (img.ndim))\n",
    "\n",
    "print('Das Bild hat %dx%d Pixel, Datentyp der Pixel ist %s.' %\n",
    "      (img.shape[0], img.shape[1], img.dtype))"
   ]
  },
  {
   "cell_type": "markdown",
   "metadata": {},
   "source": [
    "## Farbbilder"
   ]
  },
  {
   "cell_type": "code",
   "execution_count": null,
   "metadata": {},
   "outputs": [],
   "source": [
    "img_name = '../../images/maske.tif'\n",
    "img2a = cv2.imread(img_name)\n",
    "\n",
    "if img2a is None:\n",
    "    print('Image ', img_name, ' not found')"
   ]
  },
  {
   "cell_type": "markdown",
   "metadata": {},
   "source": [
    "Bei Farbbildern muss man beachten, dass bei OpenCV der BGR-Farbraum verwendet wird und die Bilder in den RGB-Farbraum konvertiert werden."
   ]
  },
  {
   "cell_type": "code",
   "execution_count": null,
   "metadata": {},
   "outputs": [],
   "source": [
    "plt.figure(figsize=(16, 6))\n",
    "\n",
    "plt.subplot(1, 2, 1)\n",
    "imshow(img2a)\n",
    "\n",
    "plt.subplot(1, 2, 2)\n",
    "img2b = cv2.cvtColor(img2a, cv2.COLOR_BGR2RGB)\n",
    "\n",
    "imshow(img2b)\n",
    "\n",
    "plt.show()"
   ]
  },
  {
   "cell_type": "code",
   "execution_count": null,
   "metadata": {},
   "outputs": [],
   "source": [
    "plt.figure(figsize=(7, 6))\n",
    "\n",
    "imshow(img2a, reverse_channels=True, debug=True)"
   ]
  },
  {
   "cell_type": "code",
   "execution_count": null,
   "metadata": {},
   "outputs": [],
   "source": [
    "imshow(img2a, True)"
   ]
  },
  {
   "cell_type": "code",
   "execution_count": null,
   "metadata": {},
   "outputs": [],
   "source": [
    "print('Shape: ', img2a.shape)\n",
    "\n",
    "print('\\nDas Bild hat %d Dimensionen.' % (img2a.ndim))\n",
    "print('Jeder der %d Kanäle hat %dx%d Pixel.' % (img2a.shape[2], img2a.shape[0], img2a.shape[1]))\n",
    "\n",
    "print('\\nInsgesamt hat das Bild %d Pixel, Datentyp der Pixel ist %s.' % (img2a.size, img2a.dtype))"
   ]
  },
  {
   "cell_type": "markdown",
   "metadata": {},
   "source": [
    "# Lesezugriff auf Pixel"
   ]
  },
  {
   "cell_type": "code",
   "execution_count": null,
   "metadata": {},
   "outputs": [],
   "source": [
    "img_name = '../../images/maske.tif'\n",
    "img = cv2.imread(img_name)\n",
    "\n",
    "if img is None:\n",
    "    print('Image ', img_name, ' not found')"
   ]
  },
  {
   "cell_type": "markdown",
   "metadata": {},
   "source": [
    "Der Lesezugriff auf einzelne Pixel kann auf unterschiedliche Arten erfolgen:"
   ]
  },
  {
   "cell_type": "code",
   "execution_count": null,
   "metadata": {},
   "outputs": [],
   "source": [
    "img.shape"
   ]
  },
  {
   "cell_type": "code",
   "execution_count": null,
   "metadata": {},
   "outputs": [],
   "source": [
    "px1   = img[100, 100]           # Zugriff auf ein ganzes Pixel\n",
    "blue1 = img[100, 100, 0]        # Zugriff auf einen Kanal (Blau) \n",
    "blue2 = img.item(100, 100, 0)   # Zugriff auf einen Kanal (Blau)\n",
    "\n",
    "print('Gesamtes Pixel: ', px1)\n",
    "print('Blaukanal: ', blue1, blue2)"
   ]
  },
  {
   "cell_type": "code",
   "execution_count": null,
   "metadata": {},
   "outputs": [],
   "source": [
    "%timeit blue1 = img[100, 100, 0]\n",
    "%timeit blue2 = img.item(100, 100, 0)"
   ]
  },
  {
   "cell_type": "markdown",
   "metadata": {},
   "source": [
    "# Schreibzugriff auf Pixel"
   ]
  },
  {
   "cell_type": "markdown",
   "metadata": {},
   "source": [
    "Ähnlich erfolgt der Schreibzugriff auf einzelne Pixel:"
   ]
  },
  {
   "cell_type": "code",
   "execution_count": null,
   "metadata": {},
   "outputs": [],
   "source": [
    "img[10, 10] = [255, 255, 255]\n",
    "img[20, 20, 2] = 255\n",
    "img.itemset((30, 30, 2), 255)"
   ]
  },
  {
   "cell_type": "code",
   "execution_count": null,
   "metadata": {},
   "outputs": [],
   "source": [
    "%timeit img[20, 20, 2] = 255\n",
    "%timeit img.itemset((30,30,2), 255)"
   ]
  },
  {
   "cell_type": "markdown",
   "metadata": {},
   "source": [
    "Der Zugriff lässt sich leicht auf mehrere Pixel erweitern. Die so adressierten Teilbilder werden in der Bildverarbeitung als 'region of interest' (roi) bezeichnet."
   ]
  },
  {
   "cell_type": "code",
   "execution_count": null,
   "metadata": {},
   "outputs": [],
   "source": [
    "roi = img[250:310, 330:390]\n",
    "img[323:383, 100:160] = roi\n",
    "\n",
    "imshow(img, True)"
   ]
  },
  {
   "cell_type": "markdown",
   "metadata": {},
   "source": [
    "# Arbeiten mit Kanälen in Farbbildern"
   ]
  },
  {
   "cell_type": "markdown",
   "metadata": {},
   "source": [
    "Farbbilder können in einzelne Kanäle zerlegt werden. Die erste Methode verwendet eine OpenCV-Funktion, die zweite Methode verwendet die Möglichkeiten der numpy-Arrays:"
   ]
  },
  {
   "cell_type": "code",
   "execution_count": null,
   "metadata": {},
   "outputs": [],
   "source": [
    "(b1, g1, r1) = cv2.split(img)\n",
    "\n",
    "b2 = img[:,:,0]\n",
    "g2 = img[:,:,1]\n",
    "r2 = img[:,:,2]\n",
    "\n",
    "plt.figure(figsize=(20,10))\n",
    "\n",
    "plt.subplot(1, 3, 1); imshow(r1)\n",
    "plt.subplot(1, 3, 2); imshow(g1)\n",
    "plt.subplot(1, 3, 3); imshow(b1)\n",
    "\n",
    "plt.show()"
   ]
  },
  {
   "cell_type": "code",
   "execution_count": null,
   "metadata": {},
   "outputs": [],
   "source": [
    "img[:, :, 0] = 0\n",
    "img[:, :, 1] = 0"
   ]
  },
  {
   "cell_type": "code",
   "execution_count": null,
   "metadata": {},
   "outputs": [],
   "source": [
    "imshow(img, True)"
   ]
  },
  {
   "cell_type": "markdown",
   "metadata": {},
   "source": [
    "# Arbeiten mit ganzen Bildern"
   ]
  },
  {
   "cell_type": "markdown",
   "metadata": {},
   "source": [
    "Es können auch einfach ganze Bilder kopiert werden oder leere Bilder erzeugt werden:"
   ]
  },
  {
   "cell_type": "code",
   "execution_count": null,
   "metadata": {},
   "outputs": [],
   "source": [
    "import numpy as np\n",
    "\n",
    "nRows = 128\n",
    "nCols = 256\n",
    "\n",
    "img4 = np.ndarray((nRows, nCols), dtype=np.uint8)     # Bild mit 128 x 256 Pixel und zufälligem Inhalt\n",
    "img5 = np.zeros((nRows, nCols), dtype=np.uint8)       # Schwarzes Bild mit 128 x 256 Pixel\n",
    "\n",
    "img6 = img.copy()     # Erzeugt eine Kopie von img mit eigenem Speicher\n",
    "img7 = img            # Erzeugt eine Kopie von img ohne eigenen Speicher"
   ]
  },
  {
   "cell_type": "code",
   "execution_count": null,
   "metadata": {},
   "outputs": [],
   "source": [
    "imshow(img5)"
   ]
  },
  {
   "cell_type": "code",
   "execution_count": null,
   "metadata": {},
   "outputs": [],
   "source": [
    "nRows = 1024\n",
    "nCols = 1024\n",
    "\n",
    "img8 = np.ndarray((nRows, nCols), dtype=np.uint8)     \n",
    "\n",
    "for r in range(nRows):\n",
    "    for c in range(nCols):\n",
    "        img8[r,c] = 0"
   ]
  },
  {
   "cell_type": "code",
   "execution_count": null,
   "metadata": {},
   "outputs": [],
   "source": []
  },
  {
   "cell_type": "code",
   "execution_count": null,
   "metadata": {},
   "outputs": [],
   "source": []
  },
  {
   "cell_type": "code",
   "execution_count": null,
   "metadata": {},
   "outputs": [],
   "source": []
  }
 ],
 "metadata": {
  "hide_input": false,
  "kernelspec": {
   "display_name": "Python 3",
   "language": "python",
   "name": "python3"
  },
  "language_info": {
   "codemirror_mode": {
    "name": "ipython",
    "version": 3
   },
   "file_extension": ".py",
   "mimetype": "text/x-python",
   "name": "python",
   "nbconvert_exporter": "python",
   "pygments_lexer": "ipython3",
   "version": "3.8.9"
  }
 },
 "nbformat": 4,
 "nbformat_minor": 1
}
