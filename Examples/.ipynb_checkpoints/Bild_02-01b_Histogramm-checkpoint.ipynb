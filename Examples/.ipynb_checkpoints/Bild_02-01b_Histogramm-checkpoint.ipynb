{
 "cells": [
  {
   "cell_type": "code",
   "execution_count": null,
   "metadata": {},
   "outputs": [],
   "source": [
    "#!/usr/bin/env python\n",
    "\n",
    "import cv2\n",
    "import numpy as np\n",
    "from matplotlib import pyplot as plt\n",
    "import sys\n",
    "\n",
    "# --- Read image\n",
    "imgName = '../../images/venedig.jpg'\n",
    "img = cv2.imread(imgName, cv2.IMREAD_UNCHANGED)\n",
    "\n",
    "if img is None:\n",
    "    print(\"Input image %s not found, exiting ...\" % imgName)\n",
    "    sys.exit()\n",
    "\n"
   ]
  },
  {
   "cell_type": "code",
   "execution_count": null,
   "metadata": {},
   "outputs": [],
   "source": [
    "fig = plt.figure(figsize=(15,6))\n",
    "\n",
    "color = ('b','g','r')\n",
    "\n",
    "for (i,col) in enumerate(color):\n",
    "    histr = cv2.calcHist([img], [i], None, [256], [0,256])\n",
    "    plt.bar(range(256), histr.reshape(-1), color = col, width=1, edgecolor='k')\n",
    "\n",
    "plt.show()"
   ]
  },
  {
   "cell_type": "code",
   "execution_count": null,
   "metadata": {},
   "outputs": [],
   "source": []
  }
 ],
 "metadata": {
  "anaconda-cloud": {},
  "hide_input": false,
  "kernelspec": {
   "display_name": "Python 3",
   "language": "python",
   "name": "python3"
  },
  "language_info": {
   "codemirror_mode": {
    "name": "ipython",
    "version": 3
   },
   "file_extension": ".py",
   "mimetype": "text/x-python",
   "name": "python",
   "nbconvert_exporter": "python",
   "pygments_lexer": "ipython3",
   "version": "3.7.6"
  }
 },
 "nbformat": 4,
 "nbformat_minor": 1
}
