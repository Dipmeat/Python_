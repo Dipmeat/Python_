{
 "cells": [
  {
   "cell_type": "code",
   "execution_count": null,
   "metadata": {},
   "outputs": [],
   "source": [
    "import cv2\n",
    "import numpy as np\n",
    "import sys\n",
    "\n",
    "from matplotlib import pyplot as plt\n",
    "import plotly_express as px\n",
    "import seaborn as sns\n",
    "\n",
    "from imgutils import *"
   ]
  },
  {
   "cell_type": "code",
   "execution_count": null,
   "metadata": {},
   "outputs": [],
   "source": [
    "# --- Read image\n",
    "imgName = '../../images/venedig.jpg'\n",
    "img = cv2.imread(imgName, cv2.IMREAD_GRAYSCALE)\n",
    "\n",
    "if img is None:\n",
    "    print(\"Input image %s not found, exiting ...\" % imgName)\n",
    "    sys.exit()"
   ]
  },
  {
   "cell_type": "code",
   "execution_count": null,
   "metadata": {},
   "outputs": [],
   "source": [
    "imshow(img)"
   ]
  },
  {
   "cell_type": "code",
   "execution_count": null,
   "metadata": {},
   "outputs": [],
   "source": [
    "sns.set_style('whitegrid')\n",
    "\n",
    "hist = cv2.calcHist([img], [0], None, [256], [0,256])\n",
    "\n",
    "fig = plt.figure(figsize=(15,6))\n",
    "plt.bar(list(range(256)), hist.reshape(-1), width=1, edgecolor='k')\n",
    "plt.show()"
   ]
  },
  {
   "cell_type": "code",
   "execution_count": null,
   "metadata": {},
   "outputs": [],
   "source": [
    "fig = px.histogram(x=img.reshape(-1), nbins=256)\n",
    "fig.show()"
   ]
  }
 ],
 "metadata": {
  "anaconda-cloud": {},
  "hide_input": false,
  "kernelspec": {
   "display_name": "Python 3",
   "language": "python",
   "name": "python3"
  },
  "language_info": {
   "codemirror_mode": {
    "name": "ipython",
    "version": 3
   },
   "file_extension": ".py",
   "mimetype": "text/x-python",
   "name": "python",
   "nbconvert_exporter": "python",
   "pygments_lexer": "ipython3",
   "version": "3.7.6"
  }
 },
 "nbformat": 4,
 "nbformat_minor": 4
}
