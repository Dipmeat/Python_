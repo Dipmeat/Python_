{
 "cells": [
  {
   "cell_type": "code",
   "execution_count": null,
   "metadata": {},
   "outputs": [],
   "source": [
    "import sys\n",
    "import cv2"
   ]
  },
  {
   "cell_type": "code",
   "execution_count": null,
   "metadata": {},
   "outputs": [],
   "source": [
    "# --------------------------------------------------------------------------------\n",
    "def resizeForDisplay(img, rows=600, cols=600):\n",
    "    out = img.copy()\n",
    "    while (out.shape[0] > rows) or (out.shape[1] > cols):\n",
    "        out = cv2.resize(\n",
    "            out, (int(out.shape[1]/1.4), int(out.shape[0]/1.4)), cv2.INTER_AREA)\n",
    "    return out"
   ]
  },
  {
   "cell_type": "code",
   "execution_count": null,
   "metadata": {},
   "outputs": [],
   "source": [
    "# Open video capture device 0. A name as argument can be used for video files\n",
    "cam = cv2.VideoCapture(0)\n",
    "\n",
    "# Exit if device is not available\n",
    "if cam.isOpened() == False:\n",
    "    print('Camera not available')\n",
    "    sys.exit(-1)\n",
    "\n",
    "# Get capture size\n",
    "size = (int(cam.get(cv2.CAP_PROP_FRAME_WIDTH)),\n",
    "        int(cam.get(cv2.CAP_PROP_FRAME_HEIGHT)))\n",
    "\n",
    "# Get no of frames per second\n",
    "fps = (int(cam.get(cv2.CAP_PROP_FPS)))\n",
    "if fps <= 0:     # Reading the fps is not always supported\n",
    "    fps = 25\n",
    "\n",
    "# Only a downscaled version will be displayed and saved\n",
    "displaySize = (int(size[0]/4), int(size[1]/4))\n",
    "\n",
    "print('Grabbed size: %dx%d'%(size[0], size[1]))\n",
    "print('Video size: %dx%d'%(displaySize[0], displaySize[1]))\n",
    "print('Video fps: %d'%(fps))"
   ]
  },
  {
   "cell_type": "code",
   "execution_count": null,
   "metadata": {},
   "outputs": [],
   "source": [
    "# Open the output stream\n",
    "fourcc = cv2.VideoWriter_fourcc(*'XVID')\n",
    "\n",
    "out = cv2.VideoWriter('myVideo.avi', fourcc, fps, displaySize)"
   ]
  },
  {
   "cell_type": "code",
   "execution_count": null,
   "metadata": {},
   "outputs": [],
   "source": [
    "# Open and position the video window\n",
    "cv2.namedWindow('Video', cv2.WINDOW_AUTOSIZE)\n",
    "cv2.moveWindow('Video', 0, 0)\n",
    "\n",
    "# Read from capture device. Scale, flip and display the video\n",
    "while True:\n",
    "    grabbed, frame = cam.read()\n",
    "    if not grabbed:\n",
    "        break\n",
    "\n",
    "    frame = cv2.resize(frame, displaySize)\n",
    "    frame = cv2.flip(frame, 1)\n",
    "\n",
    "    cv2.imshow('Video', resizeForDisplay(frame))\n",
    "    out.write(frame)\n",
    "\n",
    "    key = cv2.waitKey(1)\n",
    "    if key == ord('q'):\n",
    "        break\n",
    "\n",
    "cv2.imwrite('lastframe.jpg', frame)\n",
    "out.release()\n",
    "\n",
    "cv2.destroyAllWindows()"
   ]
  },
  {
   "cell_type": "code",
   "execution_count": null,
   "metadata": {},
   "outputs": [],
   "source": [
    "!ls -al"
   ]
  },
  {
   "cell_type": "code",
   "execution_count": null,
   "metadata": {},
   "outputs": [],
   "source": []
  }
 ],
 "metadata": {
  "hide_input": false,
  "kernelspec": {
   "display_name": "Python 3",
   "language": "python",
   "name": "python3"
  },
  "language_info": {
   "codemirror_mode": {
    "name": "ipython",
    "version": 3
   },
   "file_extension": ".py",
   "mimetype": "text/x-python",
   "name": "python",
   "nbconvert_exporter": "python",
   "pygments_lexer": "ipython3",
   "version": "3.8.9"
  }
 },
 "nbformat": 4,
 "nbformat_minor": 4
}
