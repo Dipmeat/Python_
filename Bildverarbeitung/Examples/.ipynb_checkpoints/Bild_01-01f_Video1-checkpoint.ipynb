{
 "cells": [
  {
   "cell_type": "code",
   "execution_count": null,
   "metadata": {},
   "outputs": [],
   "source": [
    "import sys\n",
    "import cv2"
   ]
  },
  {
   "cell_type": "code",
   "execution_count": null,
   "metadata": {},
   "outputs": [],
   "source": [
    "# Open video capture device 0. A name as argument can be used for video files\n",
    "cam = cv2.VideoCapture(0)\n",
    "\n",
    "# Exit if device is not available\n",
    "if cam.isOpened() == False:\n",
    "    print('Camera not available')\n",
    "    sys.exit(-1)"
   ]
  },
  {
   "cell_type": "code",
   "execution_count": null,
   "metadata": {},
   "outputs": [],
   "source": [
    "# Get capture size\n",
    "size = (int(cam.get(cv2.CAP_PROP_FRAME_WIDTH)),\n",
    "        int(cam.get(cv2.CAP_PROP_FRAME_HEIGHT)))\n",
    "\n",
    "# Only a downscaled version will be displayed\n",
    "displaySize = (int(size[0]/4), int(size[1]/4))"
   ]
  },
  {
   "cell_type": "code",
   "execution_count": null,
   "metadata": {},
   "outputs": [],
   "source": [
    "# Open and position the video window\n",
    "cv2.namedWindow('Video', cv2.WINDOW_AUTOSIZE)\n",
    "cv2.moveWindow('Video', 0, 0)"
   ]
  },
  {
   "cell_type": "code",
   "execution_count": null,
   "metadata": {
    "scrolled": false
   },
   "outputs": [],
   "source": [
    "# Read from capture device. Scale, flip and display the video\n",
    "\n",
    "while True:\n",
    "    grabbed, frame = cam.read()\n",
    "    if not grabbed:\n",
    "        break\n",
    "\n",
    "    frame2 = cv2.resize(frame, displaySize)\n",
    "    frame2 = cv2.flip(frame2, 1)\n",
    "\n",
    "    cv2.imshow('Video', frame2)\n",
    "\n",
    "    key = cv2.waitKey(1)\n",
    "    if (key == ord('q')):\n",
    "        break\n",
    "\n",
    "cam.release()\n",
    "\n",
    "cv2.destroyWindow('Video')\n",
    "cv2.waitKey(10)\n",
    "\n",
    "cv2.imwrite(\"lastframe.jpg\", frame)"
   ]
  },
  {
   "cell_type": "code",
   "execution_count": null,
   "metadata": {},
   "outputs": [],
   "source": []
  }
 ],
 "metadata": {
  "hide_input": false,
  "kernelspec": {
   "display_name": "Python 3",
   "language": "python",
   "name": "python3"
  },
  "language_info": {
   "codemirror_mode": {
    "name": "ipython",
    "version": 3
   },
   "file_extension": ".py",
   "mimetype": "text/x-python",
   "name": "python",
   "nbconvert_exporter": "python",
   "pygments_lexer": "ipython3",
   "version": "3.8.9"
  }
 },
 "nbformat": 4,
 "nbformat_minor": 4
}
