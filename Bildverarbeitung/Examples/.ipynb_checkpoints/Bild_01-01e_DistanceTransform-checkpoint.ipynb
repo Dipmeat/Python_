{
 "cells": [
  {
   "cell_type": "code",
   "execution_count": null,
   "metadata": {},
   "outputs": [],
   "source": [
    "import cv2\n",
    "import numpy as np\n",
    "import sys\n",
    "\n",
    "\n",
    "# -----------------------------------------------------\n",
    "def updateSegmentation(thr):\n",
    "    (_, imgThr) = cv2.threshold(img, thr, 255, cv2.THRESH_BINARY_INV)\n",
    "    imgDist = cv2.distanceTransform(imgThr, cv2.DIST_L2, 0)\n",
    "    cv2.normalize(imgDist, imgDist, alpha=0, beta=1, norm_type=cv2.NORM_MINMAX)\n",
    "\n",
    "    cv2.imshow('segmented image', imgThr)\n",
    "    cv2.imshow('distance transform', imgDist)\n",
    "\n",
    "\n",
    "# -----------------------------------------------------\n",
    "def TBChanged(x):\n",
    "    thr = cv2.getTrackbarPos('thr', 'image')\n",
    "    updateSegmentation(thr)\n",
    "\n",
    "\n",
    "# -----------------------------------------------------\n",
    "# programm execution starts here\n",
    "# -----------------------------------------------------\n",
    "\n",
    "img = cv2.imread('../images/seeds.tif', cv2.IMREAD_GRAYSCALE)\n",
    "if img is None:\n",
    "    print(\"Input image not found, exiting ...\")\n",
    "    sys.exit()\n",
    "\n",
    "cv2.namedWindow('image')\n",
    "\n",
    "# create gui\n",
    "cv2.createTrackbar('thr', 'image', 127, 255, TBChanged)\n",
    "\n",
    "cv2.imshow('image', img)\n",
    "cv2.moveWindow('image', 10, 30)\n",
    "cv2.namedWindow('segmented image')\n",
    "cv2.moveWindow('segmented image', img.shape[1]+10, 30)\n",
    "\n",
    "cv2.imshow('segmented image', img)\n",
    "cv2.resizeWindow('gui', img.shape[1], 200)\n",
    "cv2.moveWindow('gui', 10, img.shape[0]+60)\n",
    "\n",
    "updateSegmentation(127)\n",
    "\n",
    "cv2.waitKey()"
   ]
  },
  {
   "cell_type": "code",
   "execution_count": null,
   "metadata": {},
   "outputs": [],
   "source": []
  }
 ],
 "metadata": {
  "anaconda-cloud": {},
  "hide_input": false,
  "kernelspec": {
   "display_name": "Python 3",
   "language": "python",
   "name": "python3"
  },
  "language_info": {
   "codemirror_mode": {
    "name": "ipython",
    "version": 3
   },
   "file_extension": ".py",
   "mimetype": "text/x-python",
   "name": "python",
   "nbconvert_exporter": "python",
   "pygments_lexer": "ipython3",
   "version": "3.8.9"
  }
 },
 "nbformat": 4,
 "nbformat_minor": 1
}
