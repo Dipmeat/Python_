{
 "cells": [
  {
   "cell_type": "markdown",
   "metadata": {
    "collapsed": true
   },
   "source": [
    "## Fast loops using just in time compilation"
   ]
  },
  {
   "cell_type": "code",
   "execution_count": null,
   "metadata": {},
   "outputs": [],
   "source": [
    "# import the necessary packages\n",
    "import matplotlib.pyplot as plt\n",
    "import cv2\n",
    "\n",
    "from uk_utils import imshow"
   ]
  },
  {
   "cell_type": "code",
   "execution_count": null,
   "metadata": {},
   "outputs": [],
   "source": [
    "# load the original image, convert it to grayscale, and display\n",
    "# it inline\n",
    "img_name = '../../images/seeds.tif'\n",
    "image = cv2.imread(img_name, cv2.IMREAD_GRAYSCALE)\n",
    "\n",
    "if image is None:\n",
    "    print('Image ', img_name, ' not found')\n",
    "else:\n",
    "    imshow(image)"
   ]
  },
  {
   "cell_type": "code",
   "execution_count": null,
   "metadata": {},
   "outputs": [],
   "source": [
    "image.shape"
   ]
  },
  {
   "cell_type": "markdown",
   "metadata": {},
   "source": [
    "## Cython"
   ]
  },
  {
   "cell_type": "code",
   "execution_count": null,
   "metadata": {},
   "outputs": [],
   "source": [
    "# If you don't have installed cython you can install it from within the notebook\n",
    "#!pip install cython"
   ]
  },
  {
   "cell_type": "code",
   "execution_count": null,
   "metadata": {},
   "outputs": [],
   "source": [
    "%load_ext Cython"
   ]
  },
  {
   "cell_type": "code",
   "execution_count": null,
   "metadata": {},
   "outputs": [],
   "source": [
    "def threshold_slow(T, image):\n",
    "    # grab the image dimensions\n",
    "    M = image.shape[0]\n",
    "    N = image.shape[1]\n",
    "    \n",
    "    # loop over the image, pixel by pixel\n",
    "    for y in range(0, M):\n",
    "        for x in range(0, N):\n",
    "            # threshold the pixel\n",
    "            image[y, x] = 255 if image[y, x] >= T else 0\n",
    "            \n",
    "    # return the thresholded image\n",
    "    return image"
   ]
  },
  {
   "cell_type": "code",
   "execution_count": null,
   "metadata": {},
   "outputs": [],
   "source": [
    "img2 = threshold_slow(180, image)\n",
    "imshow(img2)"
   ]
  },
  {
   "cell_type": "code",
   "execution_count": null,
   "metadata": {},
   "outputs": [],
   "source": [
    "%timeit threshold_slow(5, image)"
   ]
  },
  {
   "cell_type": "code",
   "execution_count": null,
   "metadata": {},
   "outputs": [],
   "source": []
  },
  {
   "cell_type": "code",
   "execution_count": null,
   "metadata": {},
   "outputs": [],
   "source": [
    "%%cython -a\n",
    "import cython\n",
    "\n",
    "@cython.boundscheck(False)\n",
    "cpdef unsigned char[:, :] threshold_fast(int T, unsigned char [:, :] image):\n",
    "    # set the variable extension types\n",
    "    cdef int x, y, N, M\n",
    "    \n",
    "    # grab the image dimensions\n",
    "    M = image.shape[0]\n",
    "    N = image.shape[1]\n",
    "    \n",
    "    # loop over the image\n",
    "    for y in range(0, M):\n",
    "        for x in range(0, N):\n",
    "            # threshold the pixel\n",
    "            image[y, x] = 255 if image[y, x] >= T else 0\n",
    "    \n",
    "    # return the thresholded image\n",
    "    return image"
   ]
  },
  {
   "cell_type": "code",
   "execution_count": null,
   "metadata": {},
   "outputs": [],
   "source": [
    "# reload the original image and convert it to grayscale\n",
    "image = cv2.imread(img_name, cv2.IMREAD_GRAYSCALE)"
   ]
  },
  {
   "cell_type": "code",
   "execution_count": null,
   "metadata": {},
   "outputs": [],
   "source": [
    "%timeit threshold_fast(5, image)"
   ]
  },
  {
   "cell_type": "markdown",
   "metadata": {},
   "source": [
    "## Numba"
   ]
  },
  {
   "cell_type": "code",
   "execution_count": null,
   "metadata": {},
   "outputs": [],
   "source": [
    "from numba import jit"
   ]
  },
  {
   "cell_type": "code",
   "execution_count": null,
   "metadata": {},
   "outputs": [],
   "source": [
    "@jit(parallel=False)\n",
    "def threshold(T, image):\n",
    "    # grab the image dimensions\n",
    "    M = image.shape[0]\n",
    "    N = image.shape[1]\n",
    "    \n",
    "    # loop over the image, pixel by pixel\n",
    "    for y in range(0, M):\n",
    "        for x in range(0, N):\n",
    "            # threshold the pixel\n",
    "            image[y, x] = 255 if image[y, x] >= T else 0\n",
    "            \n",
    "    # return the thresholded image\n",
    "    return image"
   ]
  },
  {
   "cell_type": "code",
   "execution_count": null,
   "metadata": {},
   "outputs": [],
   "source": [
    "%timeit threshold(5, image)"
   ]
  },
  {
   "cell_type": "code",
   "execution_count": null,
   "metadata": {},
   "outputs": [],
   "source": []
  },
  {
   "cell_type": "code",
   "execution_count": null,
   "metadata": {},
   "outputs": [],
   "source": []
  },
  {
   "cell_type": "code",
   "execution_count": null,
   "metadata": {},
   "outputs": [],
   "source": []
  }
 ],
 "metadata": {
  "hide_input": false,
  "kernelspec": {
   "display_name": "Python 3",
   "language": "python",
   "name": "python3"
  },
  "language_info": {
   "codemirror_mode": {
    "name": "ipython",
    "version": 3
   },
   "file_extension": ".py",
   "mimetype": "text/x-python",
   "name": "python",
   "nbconvert_exporter": "python",
   "pygments_lexer": "ipython3",
   "version": "3.8.9"
  }
 },
 "nbformat": 4,
 "nbformat_minor": 2
}
