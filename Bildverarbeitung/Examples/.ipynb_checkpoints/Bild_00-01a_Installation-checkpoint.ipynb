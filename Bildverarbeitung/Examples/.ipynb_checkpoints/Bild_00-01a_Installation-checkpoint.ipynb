{
 "cells": [
  {
   "cell_type": "markdown",
   "metadata": {},
   "source": [
    "<small><i>Ulrich Klauck - Studiengang Informatik - Hochschule Aalen</i></small>"
   ]
  },
  {
   "cell_type": "markdown",
   "metadata": {},
   "source": [
    "# Test der Installation\n",
    "\n",
    "Der folgende Code enthält eine Reihe von import-Anweisungen und druckt die Versionsnummern der benötigten Bibliotheken aus. Wenn alle Versionsnummern ohne Fehlermeldungen sichtbar sind, ist die Installation in Ordnung."
   ]
  },
  {
   "cell_type": "code",
   "execution_count": null,
   "metadata": {},
   "outputs": [],
   "source": [
    "import numpy as np\n",
    "import matplotlib\n",
    "from matplotlib import pyplot as plt\n",
    "import seaborn as sns\n",
    "import pandas as pd\n",
    "import scipy\n",
    "import sklearn\n",
    "\n",
    "#import plotly as ply\n",
    "#import plotly_express as px\n",
    "\n",
    "import cv2"
   ]
  },
  {
   "cell_type": "code",
   "execution_count": null,
   "metadata": {},
   "outputs": [],
   "source": [
    "print('numpy:      version ', np.__version__)\n",
    "print('matplotlib: version ', matplotlib.__version__)\n",
    "print('seaborn:    version ', sns.__version__)\n",
    "print('pandas:     version ', pd.__version__)\n",
    "print('scipy:      version ', scipy.__version__)\n",
    "print('sklearn:    version ', sklearn.__version__)\n",
    "#print('plotly:     version ', ply.__version__)\n",
    "#print('express:    version ', px.__version__)\n",
    "\n",
    "print('cv2:        version ', cv2.__version__)"
   ]
  },
  {
   "cell_type": "markdown",
   "metadata": {},
   "source": [
    "# Nützliche Links"
   ]
  },
  {
   "cell_type": "markdown",
   "metadata": {},
   "source": [
    "- **OpenCV:** http://opencv.org\n",
    "- **IPython:** http://ipython.org\n",
    "- **Jupyter:** http://jupyter.org\n",
    "- **Notebook-Viewer:** http://nbviewer.ipython.org\n",
    "- **matplotlib:** http://matplotlib.org\n",
    "- **scikit-learn:** http://scikit-learn.org\n",
    "- **Numpy:** http://numpy.org\n",
    "- **Scipy:** http://scipy.org"
   ]
  },
  {
   "cell_type": "code",
   "execution_count": null,
   "metadata": {},
   "outputs": [],
   "source": []
  }
 ],
 "metadata": {
  "hide_input": false,
  "kernelspec": {
   "display_name": "Python 3",
   "language": "python",
   "name": "python3"
  },
  "language_info": {
   "codemirror_mode": {
    "name": "ipython",
    "version": 3
   },
   "file_extension": ".py",
   "mimetype": "text/x-python",
   "name": "python",
   "nbconvert_exporter": "python",
   "pygments_lexer": "ipython3",
   "version": "3.8.9"
  }
 },
 "nbformat": 4,
 "nbformat_minor": 1
}
