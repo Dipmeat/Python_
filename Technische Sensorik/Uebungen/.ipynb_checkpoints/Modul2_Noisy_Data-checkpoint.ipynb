{
 "cells": [
  {
   "cell_type": "markdown",
   "metadata": {},
   "source": [
    "## Modul2 Noisy Data\n"
   ]
  },
  {
   "cell_type": "code",
   "execution_count": null,
   "metadata": {},
   "outputs": [],
   "source": []
  },
  {
   "cell_type": "code",
   "execution_count": 1,
   "metadata": {},
   "outputs": [
    {
     "name": "stdout",
     "output_type": "stream",
     "text": [
      "pandas version: 1.1.5\n",
      "matplotlib version: 3.3.4\n",
      "numpy version: 1.17.0\n",
      "IPython version: 7.16.1\n"
     ]
    }
   ],
   "source": [
    "import pandas as pd\n",
    "print(\"pandas version: %s\" % pd.__version__)\n",
    "import matplotlib\n",
    "print(\"matplotlib version: %s\" % matplotlib.__version__)\n",
    "import numpy as np\n",
    "print(\"numpy version: %s\" % np.__version__)\n",
    "import IPython\n",
    "print(\"IPython version: %s\" % IPython.__version__)\n",
    "import math\n"
   ]
  },
  {
   "cell_type": "markdown",
   "metadata": {},
   "source": [
    "### Let's first showcase a simple example with a simple synthecic sinus curve \n"
   ]
  },
  {
   "cell_type": "code",
   "execution_count": 2,
   "metadata": {},
   "outputs": [],
   "source": [
    "nof_xvalues = 30\n"
   ]
  },
  {
   "cell_type": "code",
   "execution_count": 3,
   "metadata": {},
   "outputs": [],
   "source": [
    "testlinspace =np.linspace(0,1, num =nof_xvalues)"
   ]
  },
  {
   "cell_type": "code",
   "execution_count": 4,
   "metadata": {},
   "outputs": [
    {
     "data": {
      "text/plain": [
       "array([0.        , 0.03448276, 0.06896552, 0.10344828, 0.13793103,\n",
       "       0.17241379, 0.20689655, 0.24137931, 0.27586207, 0.31034483,\n",
       "       0.34482759, 0.37931034, 0.4137931 , 0.44827586, 0.48275862,\n",
       "       0.51724138, 0.55172414, 0.5862069 , 0.62068966, 0.65517241,\n",
       "       0.68965517, 0.72413793, 0.75862069, 0.79310345, 0.82758621,\n",
       "       0.86206897, 0.89655172, 0.93103448, 0.96551724, 1.        ])"
      ]
     },
     "execution_count": 4,
     "metadata": {},
     "output_type": "execute_result"
    }
   ],
   "source": [
    "testlinspace"
   ]
  },
  {
   "cell_type": "code",
   "execution_count": 5,
   "metadata": {},
   "outputs": [],
   "source": [
    "xvalues = testlinspace *2*3.14"
   ]
  },
  {
   "cell_type": "code",
   "execution_count": 6,
   "metadata": {},
   "outputs": [
    {
     "data": {
      "text/plain": [
       "array([0.        , 0.21655172, 0.43310345, 0.64965517, 0.8662069 ,\n",
       "       1.08275862, 1.29931034, 1.51586207, 1.73241379, 1.94896552,\n",
       "       2.16551724, 2.38206897, 2.59862069, 2.81517241, 3.03172414,\n",
       "       3.24827586, 3.46482759, 3.68137931, 3.89793103, 4.11448276,\n",
       "       4.33103448, 4.54758621, 4.76413793, 4.98068966, 5.19724138,\n",
       "       5.4137931 , 5.63034483, 5.84689655, 6.06344828, 6.28      ])"
      ]
     },
     "execution_count": 6,
     "metadata": {},
     "output_type": "execute_result"
    }
   ],
   "source": [
    "xvalues"
   ]
  },
  {
   "cell_type": "code",
   "execution_count": 7,
   "metadata": {},
   "outputs": [
    {
     "data": {
      "text/plain": [
       "(30,)"
      ]
     },
     "execution_count": 7,
     "metadata": {},
     "output_type": "execute_result"
    }
   ],
   "source": [
    "xvalues.shape\n"
   ]
  },
  {
   "cell_type": "code",
   "execution_count": 8,
   "metadata": {},
   "outputs": [
    {
     "name": "stdout",
     "output_type": "stream",
     "text": [
      "sin values  [ 0.          0.21486317  0.41968972  0.60491186  0.76187755  0.88325467\n",
      "  0.96337347  0.99849149  0.9869683   0.92934216  0.8283049   0.68857612\n",
      "  0.5166828   0.32065435  0.10964761 -0.10648096 -0.31763562 -0.51395299\n",
      " -0.68626276 -0.82651604 -0.92816137 -0.98645073 -0.99866132 -0.96422277\n",
      " -0.88474375 -0.76393687 -0.60744522 -0.42257878 -0.21797299 -0.0031853 ]\n"
     ]
    }
   ],
   "source": [
    "\n",
    "sinxvalues = np.sin(xvalues)\n",
    "#sinxvalues[0:15] = 0\n",
    "print(\"sin values \", sinxvalues)\n",
    "\n",
    "\n"
   ]
  },
  {
   "cell_type": "code",
   "execution_count": 9,
   "metadata": {},
   "outputs": [
    {
     "data": {
      "text/plain": [
       "[<matplotlib.lines.Line2D at 0x2846aef1b70>]"
      ]
     },
     "execution_count": 9,
     "metadata": {},
     "output_type": "execute_result"
    },
    {
     "data": {
      "image/png": "[encoded data removed]",
      "text/plain": [
       "<Figure size 432x288 with 1 Axes>"
      ]
     },
     "metadata": {
      "needs_background": "light"
     },
     "output_type": "display_data"
    }
   ],
   "source": [
    "from matplotlib import pyplot as plt\n",
    "\n",
    "plt.xlabel(\"x\")\n",
    "plt.ylabel(\"y\")\n",
    "plt.title(\"y = sin(x)\")\n",
    "plt.scatter(xvalues, sinxvalues)\n",
    "plt.plot(xvalues, sinxvalues, c= \"yellow\")"
   ]
  },
  {
   "cell_type": "markdown",
   "metadata": {},
   "source": [
    "### Generate some uniform distributed noise"
   ]
  },
  {
   "cell_type": "code",
   "execution_count": 10,
   "metadata": {},
   "outputs": [],
   "source": [
    "nof_xvalues = 1000\n",
    "\n",
    "randomynoise= (np.random.random(nof_xvalues)-0.5)*0.5 \n",
    "\n",
    "\n",
    "\n"
   ]
  },
  {
   "cell_type": "markdown",
   "metadata": {},
   "source": [
    "#### ... and plot it ..."
   ]
  },
  {
   "cell_type": "code",
   "execution_count": 11,
   "metadata": {},
   "outputs": [
    {
     "data": {
      "text/plain": [
       "(array([ 97., 102., 107.,  83., 102., 100., 110., 111.,  97.,  91.]),\n",
       " array([-2.49404773e-01, -1.99482820e-01, -1.49560867e-01, -9.96389136e-02,\n",
       "        -4.97169606e-02,  2.04992321e-04,  5.01269453e-02,  1.00048898e-01,\n",
       "         1.49970851e-01,  1.99892804e-01,  2.49814757e-01]),\n",
       " <BarContainer object of 10 artists>)"
      ]
     },
     "execution_count": 11,
     "metadata": {},
     "output_type": "execute_result"
    },
    {
     "data": {
      "image/png": "[encoded data removed]",
      "text/plain": [
       "<Figure size 432x288 with 1 Axes>"
      ]
     },
     "metadata": {
      "needs_background": "light"
     },
     "output_type": "display_data"
    }
   ],
   "source": [
    "plt.hist(randomynoise)"
   ]
  },
  {
   "cell_type": "markdown",
   "metadata": {},
   "source": [
    "### Generate some normal distributed noise\n"
   ]
  },
  {
   "cell_type": "code",
   "execution_count": 12,
   "metadata": {},
   "outputs": [],
   "source": [
    "mu = 0.0\n",
    "sigma = 0.5 \n",
    "randomynoise = np.random.normal(mu, sigma, nof_xvalues)\n"
   ]
  },
  {
   "cell_type": "code",
   "execution_count": null,
   "metadata": {},
   "outputs": [],
   "source": []
  },
  {
   "cell_type": "markdown",
   "metadata": {},
   "source": [
    "### Let's plot the data"
   ]
  },
  {
   "cell_type": "code",
   "execution_count": 13,
   "metadata": {},
   "outputs": [
    {
     "data": {
      "text/plain": [
       "(array([ 1.,  0.,  1.,  1.,  3.,  0.,  2.,  0.,  1.,  1.,  5.,  5.,  3.,\n",
       "         8.,  3.,  4.,  4.,  3.,  3.,  2.,  3.,  4.,  7.,  5.,  5., 12.,\n",
       "         9.,  6., 21., 10., 14., 14., 10., 22., 15., 13., 17., 19., 19.,\n",
       "        27., 12., 27., 15., 22., 18., 26., 25., 19., 27., 35., 18., 25.,\n",
       "        18., 22., 22., 30., 16., 33., 22., 21., 19., 14., 17., 17.,  6.,\n",
       "        21., 15., 13., 15.,  7., 10.,  6., 11., 12.,  8.,  7.,  5.,  4.,\n",
       "         5.,  2.,  2.,  4.,  5.,  0.,  2.,  6.,  1.,  3.,  1.,  0.,  1.,\n",
       "         1.,  1.,  2.,  0.,  1.,  0.,  0.,  0.,  1.]),\n",
       " array([-1.45554262, -1.42586988, -1.39619714, -1.3665244 , -1.33685166,\n",
       "        -1.30717892, -1.27750618, -1.24783344, -1.2181607 , -1.18848796,\n",
       "        -1.15881522, -1.12914248, -1.09946974, -1.069797  , -1.04012426,\n",
       "        -1.01045152, -0.98077878, -0.95110604, -0.9214333 , -0.89176057,\n",
       "        -0.86208783, -0.83241509, -0.80274235, -0.77306961, -0.74339687,\n",
       "        -0.71372413, -0.68405139, -0.65437865, -0.62470591, -0.59503317,\n",
       "        -0.56536043, -0.53568769, -0.50601495, -0.47634221, -0.44666947,\n",
       "        -0.41699673, -0.38732399, -0.35765125, -0.32797851, -0.29830577,\n",
       "        -0.26863303, -0.23896029, -0.20928755, -0.17961481, -0.14994207,\n",
       "        -0.12026933, -0.09059659, -0.06092385, -0.03125112, -0.00157838,\n",
       "         0.02809436,  0.0577671 ,  0.08743984,  0.11711258,  0.14678532,\n",
       "         0.17645806,  0.2061308 ,  0.23580354,  0.26547628,  0.29514902,\n",
       "         0.32482176,  0.3544945 ,  0.38416724,  0.41383998,  0.44351272,\n",
       "         0.47318546,  0.5028582 ,  0.53253094,  0.56220368,  0.59187642,\n",
       "         0.62154916,  0.6512219 ,  0.68089464,  0.71056738,  0.74024012,\n",
       "         0.76991286,  0.7995856 ,  0.82925834,  0.85893107,  0.88860381,\n",
       "         0.91827655,  0.94794929,  0.97762203,  1.00729477,  1.03696751,\n",
       "         1.06664025,  1.09631299,  1.12598573,  1.15565847,  1.18533121,\n",
       "         1.21500395,  1.24467669,  1.27434943,  1.30402217,  1.33369491,\n",
       "         1.36336765,  1.39304039,  1.42271313,  1.45238587,  1.48205861,\n",
       "         1.51173135]),\n",
       " <BarContainer object of 100 artists>)"
      ]
     },
     "execution_count": 13,
     "metadata": {},
     "output_type": "execute_result"
    },
    {
     "data": {
      "image/png": "[encoded data removed]",
      "text/plain": [
       "<Figure size 432x288 with 1 Axes>"
      ]
     },
     "metadata": {
      "needs_background": "light"
     },
     "output_type": "display_data"
    }
   ],
   "source": [
    "plt.hist(randomynoise, bins =100)"
   ]
  },
  {
   "cell_type": "code",
   "execution_count": 14,
   "metadata": {},
   "outputs": [],
   "source": [
    "xvalues = 100 *np.linspace(0,1, num =nof_xvalues)\n",
    "\n",
    "slope = 0.1\n",
    "b = 2\n",
    "yvalues = slope*xvalues+b  +randomynoise"
   ]
  },
  {
   "cell_type": "markdown",
   "metadata": {},
   "source": [
    "#### Combine it with a linear function ..."
   ]
  },
  {
   "cell_type": "markdown",
   "metadata": {},
   "source": [
    "\n",
    "\n",
    "\n",
    "    "
   ]
  },
  {
   "cell_type": "code",
   "execution_count": 15,
   "metadata": {},
   "outputs": [
    {
     "data": {
      "text/plain": [
       "<matplotlib.collections.PathCollection at 0x2846d221cf8>"
      ]
     },
     "execution_count": 15,
     "metadata": {},
     "output_type": "execute_result"
    },
    {
     "data": {
      "image/png": "[encoded data removed]",
      "text/plain": [
       "<Figure size 432x288 with 1 Axes>"
      ]
     },
     "metadata": {
      "needs_background": "light"
     },
     "output_type": "display_data"
    }
   ],
   "source": [
    "plt.scatter(xvalues, yvalues)\n",
    "\n"
   ]
  },
  {
   "cell_type": "code",
   "execution_count": 16,
   "metadata": {},
   "outputs": [
    {
     "data": {
      "text/plain": [
       "[<matplotlib.lines.Line2D at 0x2846d2897f0>]"
      ]
     },
     "execution_count": 16,
     "metadata": {},
     "output_type": "execute_result"
    },
    {
     "data": {
      "image/png": "[encoded data removed]",
      "text/plain": [
       "<Figure size 432x288 with 1 Axes>"
      ]
     },
     "metadata": {
      "needs_background": "light"
     },
     "output_type": "display_data"
    }
   ],
   "source": [
    "plt.plot(xvalues, yvalues, c= \"yellow\")"
   ]
  },
  {
   "cell_type": "code",
   "execution_count": 17,
   "metadata": {},
   "outputs": [],
   "source": [
    "xvalues = 100 *np.linspace(0,1, num =nof_xvalues)+randomynoise\n",
    "\n",
    "slope = 0.1\n",
    "b = 2\n",
    "yvalues = slope*xvalues+b"
   ]
  },
  {
   "cell_type": "code",
   "execution_count": 18,
   "metadata": {},
   "outputs": [
    {
     "data": {
      "text/plain": [
       "<matplotlib.collections.PathCollection at 0x2846d2d6a20>"
      ]
     },
     "execution_count": 18,
     "metadata": {},
     "output_type": "execute_result"
    },
    {
     "data": {
      "image/png": "[encoded data removed]",
      "text/plain": [
       "<Figure size 432x288 with 1 Axes>"
      ]
     },
     "metadata": {
      "needs_background": "light"
     },
     "output_type": "display_data"
    }
   ],
   "source": [
    "plt.scatter(xvalues, yvalues)\n"
   ]
  },
  {
   "cell_type": "code",
   "execution_count": 19,
   "metadata": {},
   "outputs": [
    {
     "data": {
      "text/plain": [
       "[<matplotlib.lines.Line2D at 0x2846d349be0>]"
      ]
     },
     "execution_count": 19,
     "metadata": {},
     "output_type": "execute_result"
    },
    {
     "data": {
      "image/png": "[encoded data removed]",
      "text/plain": [
       "<Figure size 432x288 with 1 Axes>"
      ]
     },
     "metadata": {
      "needs_background": "light"
     },
     "output_type": "display_data"
    }
   ],
   "source": [
    "plt.plot(xvalues, yvalues, c= \"red\")"
   ]
  },
  {
   "cell_type": "markdown",
   "metadata": {},
   "source": [
    "\n"
   ]
  },
  {
   "cell_type": "code",
   "execution_count": null,
   "metadata": {},
   "outputs": [],
   "source": []
  }
 ],
 "metadata": {
  "kernelspec": {
   "display_name": "Python 3",
   "language": "python",
   "name": "python3"
  },
  "language_info": {
   "codemirror_mode": {
    "name": "ipython",
    "version": 3
   },
   "file_extension": ".py",
   "mimetype": "text/x-python",
   "name": "python",
   "nbconvert_exporter": "python",
   "pygments_lexer": "ipython3",
   "version": "3.6.13"
  }
 },
 "nbformat": 4,
 "nbformat_minor": 4
}
