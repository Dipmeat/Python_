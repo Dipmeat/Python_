{
 "cells": [
  {
   "cell_type": "markdown",
   "metadata": {},
   "source": [
    "## MusterlösungenPython Übungen Modul 1"
   ]
  },
  {
   "cell_type": "code",
   "execution_count": 22,
   "metadata": {},
   "outputs": [],
   "source": [
    "import numpy as np\n",
    "%matplotlib inline\n",
    "import matplotlib.pyplot as plt"
   ]
  },
  {
   "cell_type": "markdown",
   "metadata": {},
   "source": [
    "### No. 1"
   ]
  },
  {
   "cell_type": "code",
   "execution_count": 23,
   "metadata": {},
   "outputs": [
    {
     "name": "stdout",
     "output_type": "stream",
     "text": [
      "0 = even\n",
      "1 = odd\n",
      "2 = even\n",
      "3 = odd\n",
      "4 = even\n",
      "5 = odd\n",
      "6 = even\n",
      "7 = odd\n",
      "8 = even\n",
      "9 = odd\n",
      "10 = even\n",
      "11 = odd\n",
      "12 = even\n",
      "13 = odd\n",
      "14 = even\n",
      "15 = odd\n",
      "16 = even\n",
      "17 = odd\n",
      "18 = even\n",
      "19 = odd\n",
      "20 = even\n",
      "21 = odd\n",
      "22 = even\n",
      "23 = odd\n",
      "24 = even\n",
      "25 = odd\n",
      "26 = even\n",
      "27 = odd\n",
      "28 = even\n",
      "29 = odd\n",
      "30 = even\n",
      "31 = odd\n",
      "32 = even\n",
      "33 = odd\n",
      "34 = even\n",
      "35 = odd\n",
      "36 = even\n",
      "37 = odd\n",
      "38 = even\n",
      "39 = odd\n",
      "40 = even\n",
      "41 = odd\n",
      "42 = even\n",
      "43 = odd\n",
      "44 = even\n",
      "45 = odd\n",
      "46 = even\n",
      "47 = odd\n",
      "48 = even\n",
      "49 = odd\n",
      "50 = even\n",
      "51 = odd\n",
      "52 = even\n",
      "53 = odd\n",
      "54 = even\n",
      "55 = odd\n",
      "56 = even\n",
      "57 = odd\n",
      "58 = even\n",
      "59 = odd\n",
      "60 = even\n",
      "61 = odd\n",
      "62 = even\n",
      "63 = odd\n",
      "64 = even\n",
      "65 = odd\n",
      "66 = even\n",
      "67 = odd\n",
      "68 = even\n",
      "69 = odd\n",
      "70 = even\n",
      "71 = odd\n",
      "72 = even\n",
      "73 = odd\n",
      "74 = even\n",
      "75 = odd\n",
      "76 = even\n",
      "77 = odd\n",
      "78 = even\n",
      "79 = odd\n",
      "80 = even\n",
      "81 = odd\n",
      "82 = even\n",
      "83 = odd\n",
      "84 = even\n",
      "85 = odd\n",
      "86 = even\n",
      "87 = odd\n",
      "88 = even\n",
      "89 = odd\n",
      "90 = even\n",
      "91 = odd\n",
      "92 = even\n",
      "93 = odd\n",
      "94 = even\n",
      "95 = odd\n",
      "96 = even\n",
      "97 = odd\n",
      "98 = even\n",
      "99 = odd\n",
      "100 = even\n"
     ]
    }
   ],
   "source": [
    "for i in range(0,101):\n",
    "    if(i%2):\n",
    "        print(str(i) +\" = odd\")\n",
    "    else:\n",
    "        print(str(i) +\" = even\")"
   ]
  },
  {
   "cell_type": "markdown",
   "metadata": {},
   "source": [
    "### No.2"
   ]
  },
  {
   "cell_type": "code",
   "execution_count": 24,
   "metadata": {},
   "outputs": [
    {
     "name": "stdout",
     "output_type": "stream",
     "text": [
      "0 = even\n",
      "1 = odd\n",
      "2 = even\n",
      "3 = odd\n",
      "4 = even\n",
      "5 = odd\n",
      "6 = even\n",
      "7 = odd\n",
      "8 = even\n",
      "9 = odd\n",
      "10 = even\n",
      "11 = odd\n",
      "12 = even\n",
      "13 = odd\n",
      "14 = even\n",
      "15 = odd\n",
      "16 = even\n",
      "17 = odd\n",
      "18 = even\n",
      "19 = odd\n",
      "20 = even\n",
      "21 = odd\n",
      "22 = even\n",
      "23 = odd\n",
      "24 = even\n",
      "25 = odd\n",
      "26 = even\n",
      "27 = odd\n",
      "28 = even\n",
      "29 = odd\n",
      "30 = even\n",
      "31 = odd\n",
      "32 = even\n",
      "33 = odd\n",
      "34 = even\n",
      "35 = odd\n",
      "36 = even\n",
      "37 = odd\n",
      "38 = even\n",
      "39 = odd\n",
      "40 = even\n",
      "41 = odd\n",
      "42 = even\n",
      "43 = odd\n",
      "44 = even\n",
      "45 = odd\n",
      "46 = even\n",
      "47 = odd\n",
      "48 = even\n",
      "49 = odd\n",
      "50 = even\n",
      "51 = odd\n",
      "52 = even\n",
      "53 = odd\n",
      "54 = even\n",
      "55 = odd\n",
      "56 = even\n",
      "57 = odd\n",
      "58 = even\n",
      "59 = odd\n",
      "60 = even\n",
      "61 = odd\n",
      "62 = even\n",
      "63 = odd\n",
      "64 = even\n",
      "65 = odd\n",
      "66 = even\n",
      "67 = odd\n",
      "68 = even\n",
      "69 = odd\n",
      "70 = even\n",
      "71 = odd\n",
      "72 = even\n",
      "73 = odd\n",
      "74 = even\n",
      "75 = odd\n",
      "76 = even\n",
      "77 = odd\n",
      "78 = even\n",
      "79 = odd\n",
      "80 = even\n",
      "81 = odd\n",
      "82 = even\n",
      "83 = odd\n",
      "84 = even\n",
      "85 = odd\n",
      "86 = even\n",
      "87 = odd\n",
      "88 = even\n",
      "89 = odd\n",
      "90 = even\n",
      "91 = odd\n",
      "92 = even\n",
      "93 = odd\n",
      "94 = even\n",
      "95 = odd\n",
      "96 = even\n",
      "97 = odd\n",
      "98 = even\n",
      "99 = odd\n",
      "100 = even\n"
     ]
    }
   ],
   "source": [
    "i = 0\n",
    "while(i <= 100):\n",
    "    if(i%2):\n",
    "        print(str(i) +\" = odd\")\n",
    "    else:\n",
    "        print(str(i) +\" = even\")\n",
    "    i= i+1"
   ]
  },
  {
   "cell_type": "markdown",
   "metadata": {},
   "source": [
    "### No. 3"
   ]
  },
  {
   "cell_type": "code",
   "execution_count": 25,
   "metadata": {
    "scrolled": true
   },
   "outputs": [
    {
     "data": {
      "image/png": "[encoded data removed]",
      "text/plain": [
       "<Figure size 432x288 with 1 Axes>"
      ]
     },
     "metadata": {
      "needs_background": "light"
     },
     "output_type": "display_data"
    }
   ],
   "source": [
    "\n",
    "x = np.linspace(-2,4,100)\n",
    "plt.plot(x,np.exp(x))\n",
    "plt.show()"
   ]
  },
  {
   "cell_type": "markdown",
   "metadata": {},
   "source": [
    "### No. 4"
   ]
  },
  {
   "cell_type": "markdown",
   "metadata": {},
   "source": [
    "### Apply noise on parameter"
   ]
  },
  {
   "cell_type": "code",
   "execution_count": 27,
   "metadata": {},
   "outputs": [
    {
     "data": {
      "image/png": "[encoded data removed]",
      "text/plain": [
       "<Figure size 432x288 with 1 Axes>"
      ]
     },
     "metadata": {
      "needs_background": "light"
     },
     "output_type": "display_data"
    }
   ],
   "source": [
    "randomnoise = np.random.RandomState()\n",
    "\n",
    "number_of_values =100\n",
    "\n",
    "mu = 0.0\n",
    "sigma = 0.5 \n",
    "randomnoise = np.random.normal(mu, sigma, number_of_values)\n",
    "\n",
    "y = x + randomnoise\n",
    "plt.plot(x,np.exp(y))\n",
    "plt.show()"
   ]
  },
  {
   "cell_type": "markdown",
   "metadata": {},
   "source": [
    "### Apply noise on result"
   ]
  },
  {
   "cell_type": "code",
   "execution_count": 28,
   "metadata": {},
   "outputs": [
    {
     "data": {
      "image/png": "[encoded data removed]",
      "text/plain": [
       "<Figure size 432x288 with 1 Axes>"
      ]
     },
     "metadata": {
      "needs_background": "light"
     },
     "output_type": "display_data"
    }
   ],
   "source": [
    "number_of_values =100\n",
    "\n",
    "mu = 100.0\n",
    "sigma = 3.5 \n",
    "randomnoise = np.random.normal(mu, sigma, number_of_values)\n",
    "\n",
    "y = np.exp(x) + randomnoise\n",
    "plt.plot(x,y)\n",
    "plt.show()"
   ]
  },
  {
   "cell_type": "code",
   "execution_count": null,
   "metadata": {},
   "outputs": [],
   "source": []
  },
  {
   "cell_type": "code",
   "execution_count": null,
   "metadata": {},
   "outputs": [],
   "source": []
  }
 ],
 "metadata": {
  "kernelspec": {
   "display_name": "Python 3",
   "language": "python",
   "name": "python3"
  },
  "language_info": {
   "codemirror_mode": {
    "name": "ipython",
    "version": 3
   },
   "file_extension": ".py",
   "mimetype": "text/x-python",
   "name": "python",
   "nbconvert_exporter": "python",
   "pygments_lexer": "ipython3",
   "version": "3.6.12"
  }
 },
 "nbformat": 4,
 "nbformat_minor": 5
}
