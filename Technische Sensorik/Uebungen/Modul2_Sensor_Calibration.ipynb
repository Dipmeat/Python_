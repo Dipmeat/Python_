{
 "cells": [
  {
   "cell_type": "code",
   "execution_count": 223,
   "metadata": {},
   "outputs": [
    {
     "name": "stdout",
     "output_type": "stream",
     "text": [
      "pandas version: 1.1.4\n",
      "matplotlib version: 3.3.3\n",
      "numpy version: 1.17.0\n",
      "IPython version: 7.16.1\n",
      "Requirement already satisfied: tabulate in d:\\xchange\\anaconda3\\envs\\cv2env\\lib\\site-packages (0.8.9)\n",
      "Collecting sklearn\n",
      "  Downloading sklearn-0.0.tar.gz (1.1 kB)\n",
      "Collecting scikit-learn\n",
      "  Downloading scikit_learn-0.24.2-cp36-cp36m-win_amd64.whl (6.8 MB)\n",
      "Requirement already satisfied: numpy>=1.13.3 in d:\\xchange\\anaconda3\\envs\\cv2env\\lib\\site-packages (from scikit-learn->sklearn) (1.17.0)\n",
      "Requirement already satisfied: scipy>=0.19.1 in d:\\xchange\\anaconda3\\envs\\cv2env\\lib\\site-packages (from scikit-learn->sklearn) (1.5.4)\n",
      "Collecting joblib>=0.11\n",
      "  Downloading joblib-1.1.0-py2.py3-none-any.whl (306 kB)\n",
      "Requirement already satisfied: numpy>=1.13.3 in d:\\xchange\\anaconda3\\envs\\cv2env\\lib\\site-packages (from scikit-learn->sklearn) (1.17.0)\n",
      "Collecting threadpoolctl>=2.0.0\n",
      "  Downloading threadpoolctl-3.0.0-py3-none-any.whl (14 kB)\n",
      "Building wheels for collected packages: sklearn\n",
      "  Building wheel for sklearn (setup.py): started\n",
      "  Building wheel for sklearn (setup.py): finished with status 'done'\n",
      "  Created wheel for sklearn: filename=sklearn-0.0-py2.py3-none-any.whl size=1315 sha256=f6e0616dce8f8f058088ce50e016211b99f6d3c69797ad323c8c7d3a6a2cff17\n",
      "  Stored in directory: c:\\users\\walter gillner\\appdata\\local\\pip\\cache\\wheels\\23\\9d\\42\\5ec745cbbb17517000a53cecc49d6a865450d1f5cb16dc8a9c\n",
      "Successfully built sklearn\n",
      "Installing collected packages: threadpoolctl, joblib, scikit-learn, sklearn\n",
      "Successfully installed joblib-1.1.0 scikit-learn-0.24.2 sklearn-0.0 threadpoolctl-3.0.0\n"
     ]
    }
   ],
   "source": [
    "import pandas as pd\n",
    "print(\"pandas version: %s\" % pd.__version__)\n",
    "import matplotlib\n",
    "print(\"matplotlib version: %s\" % matplotlib.__version__)\n",
    "import numpy as np\n",
    "print(\"numpy version: %s\" % np.__version__)\n",
    "import IPython\n",
    "print(\"IPython version: %s\" % IPython.__version__)\n",
    "import math\n",
    "!pip install tabulate\n",
    "from IPython.display import HTML, display\n",
    "import tabulate\n",
    "from matplotlib import pyplot as plt\n",
    "!pip install sklearn\n",
    "from sklearn.datasets import make_regression\n",
    "from sklearn.linear_model import LinearRegression"
   ]
  },
  {
   "cell_type": "code",
   "execution_count": null,
   "metadata": {},
   "outputs": [],
   "source": []
  },
  {
   "cell_type": "raw",
   "metadata": {},
   "source": []
  },
  {
   "cell_type": "markdown",
   "metadata": {},
   "source": [
    "## Sensor Calibration\n"
   ]
  },
  {
   "cell_type": "markdown",
   "metadata": {},
   "source": [
    "#### A simple sample data set"
   ]
  },
  {
   "cell_type": "code",
   "execution_count": 210,
   "metadata": {},
   "outputs": [],
   "source": [
    "number_of_values =10\n",
    "\n",
    "mu = 0.0\n",
    "sigma = 0.5 \n",
    "randomnoise = np.random.normal(mu, sigma, number_of_values)"
   ]
  },
  {
   "cell_type": "code",
   "execution_count": 211,
   "metadata": {},
   "outputs": [],
   "source": [
    "xvalues_linspace =np.linspace(0,10, num =number_of_values)"
   ]
  },
  {
   "cell_type": "code",
   "execution_count": 214,
   "metadata": {},
   "outputs": [],
   "source": [
    "yvalues = xvalues_linspace+randomnoise"
   ]
  },
  {
   "cell_type": "code",
   "execution_count": 222,
   "metadata": {},
   "outputs": [
    {
     "data": {
      "text/plain": [
       "[<matplotlib.lines.Line2D at 0x27a82997b00>]"
      ]
     },
     "execution_count": 222,
     "metadata": {},
     "output_type": "execute_result"
    },
    {
     "data": {
      "image/png": "[encoded data removed]",
      "text/plain": [
       "<Figure size 432x288 with 1 Axes>"
      ]
     },
     "metadata": {
      "needs_background": "light"
     },
     "output_type": "display_data"
    }
   ],
   "source": [
    "\n",
    "plt.xlabel(\"values expected\")\n",
    "plt.ylabel(\"values measured\")\n",
    "plt.plot(xvalues_linspace, yvalues, c= \"red\")"
   ]
  },
  {
   "cell_type": "code",
   "execution_count": 219,
   "metadata": {},
   "outputs": [],
   "source": [
    "value_table = [xvalues_linspace,yvalues]"
   ]
  },
  {
   "cell_type": "code",
   "execution_count": 220,
   "metadata": {},
   "outputs": [
    {
     "data": {
      "text/html": [
       "<table>\n",
       "<tbody>\n",
       "<tr><td style=\"text-align: right;\"> 0       </td><td style=\"text-align: right;\">1.11111</td><td style=\"text-align: right;\">2.22222</td><td style=\"text-align: right;\">3.33333</td><td style=\"text-align: right;\">4.44444</td><td style=\"text-align: right;\">5.55556</td><td style=\"text-align: right;\">6.66667</td><td style=\"text-align: right;\">7.77778</td><td style=\"text-align: right;\">8.88889</td><td style=\"text-align: right;\">10     </td></tr>\n",
       "<tr><td style=\"text-align: right;\">-0.129077</td><td style=\"text-align: right;\">1.36227</td><td style=\"text-align: right;\">1.97646</td><td style=\"text-align: right;\">3.6345 </td><td style=\"text-align: right;\">4.62187</td><td style=\"text-align: right;\">5.97528</td><td style=\"text-align: right;\">6.1781 </td><td style=\"text-align: right;\">7.44304</td><td style=\"text-align: right;\">9.63522</td><td style=\"text-align: right;\">10.6674</td></tr>\n",
       "</tbody>\n",
       "</table>"
      ],
      "text/plain": [
       "<IPython.core.display.HTML object>"
      ]
     },
     "metadata": {},
     "output_type": "display_data"
    }
   ],
   "source": [
    "\n",
    "display(HTML(tabulate.tabulate(value_table, tablefmt='html')))"
   ]
  },
  {
   "cell_type": "code",
   "execution_count": 221,
   "metadata": {},
   "outputs": [
    {
     "data": {
      "text/plain": [
       "[<matplotlib.lines.Line2D at 0x27a82a3c240>]"
      ]
     },
     "execution_count": 221,
     "metadata": {},
     "output_type": "execute_result"
    },
    {
     "data": {
      "image/png": "[encoded data removed]",
      "text/plain": [
       "<Figure size 432x288 with 1 Axes>"
      ]
     },
     "metadata": {
      "needs_background": "light"
     },
     "output_type": "display_data"
    }
   ],
   "source": [
    "plt.ylabel(\"values expected\")\n",
    "plt.xlabel(\"values measured\")\n",
    "plt.plot(yvalues,xvalues_linspace,  c= \"blue\")"
   ]
  },
  {
   "cell_type": "markdown",
   "metadata": {},
   "source": [
    "### Let's with more values "
   ]
  },
  {
   "cell_type": "code",
   "execution_count": 239,
   "metadata": {},
   "outputs": [],
   "source": [
    "\n",
    "y = xvalues_linspace\n",
    "X = yvalues.reshape(10,1)"
   ]
  },
  {
   "cell_type": "code",
   "execution_count": 240,
   "metadata": {},
   "outputs": [
    {
     "data": {
      "text/plain": [
       "array([0.9458717])"
      ]
     },
     "execution_count": 240,
     "metadata": {},
     "output_type": "execute_result"
    }
   ],
   "source": [
    "linreg = LinearRegression()\n",
    "linreg.fit(X, y)\n",
    "m = linreg.coef_[0]\n",
    "linreg.coef_"
   ]
  },
  {
   "cell_type": "code",
   "execution_count": 241,
   "metadata": {},
   "outputs": [
    {
     "data": {
      "text/plain": [
       "[<matplotlib.lines.Line2D at 0x27a8431a898>]"
      ]
     },
     "execution_count": 241,
     "metadata": {},
     "output_type": "execute_result"
    },
    {
     "data": {
      "image/png": "[encoded data removed]",
      "text/plain": [
       "<Figure size 432x288 with 1 Axes>"
      ]
     },
     "metadata": {
      "needs_background": "light"
     },
     "output_type": "display_data"
    }
   ],
   "source": [
    "plt.scatter(X, y)\n",
    "plt.plot(X, weights*X, c='green')"
   ]
  }
 ],
 "metadata": {
  "kernelspec": {
   "display_name": "Python 3",
   "language": "python",
   "name": "python3"
  },
  "language_info": {
   "codemirror_mode": {
    "name": "ipython",
    "version": 3
   },
   "file_extension": ".py",
   "mimetype": "text/x-python",
   "name": "python",
   "nbconvert_exporter": "python",
   "pygments_lexer": "ipython3",
   "version": "3.6.12"
  }
 },
 "nbformat": 4,
 "nbformat_minor": 4
}
